{
  "nbformat": 4,
  "nbformat_minor": 0,
  "metadata": {
    "colab": {
      "name": "01_PerceptonTraining.ipynb",
      "provenance": [],
      "authorship_tag": "ABX9TyNx1ksq7t/bYIHEC3BZzkH+",
      "include_colab_link": true
    },
    "kernelspec": {
      "name": "python3",
      "display_name": "Python 3"
    },
    "language_info": {
      "name": "python"
    }
  },
  "cells": [
    {
      "cell_type": "markdown",
      "metadata": {
        "id": "view-in-github",
        "colab_type": "text"
      },
      "source": [
        "<a href=\"https://colab.research.google.com/github/anshika29/ML_Girl/blob/main/01_PerceptonTraining.ipynb\" target=\"_parent\"><img src=\"https://colab.research.google.com/assets/colab-badge.svg\" alt=\"Open In Colab\"/></a>"
      ]
    },
    {
      "cell_type": "markdown",
      "metadata": {
        "id": "R8xpGhXYE1lQ"
      },
      "source": [
        "**Date Created**: May 29,2021\n",
        "\n",
        "Author: [Anshika Jain](https:://github.com/anshika29)\n"
      ]
    },
    {
      "cell_type": "markdown",
      "metadata": {
        "id": "_2F9WGLuUjVb"
      },
      "source": [
        "#Problem Statement\n",
        "\n",
        "Train the model to learn the table of 10\n",
        "\n",
        "Equation : `y=10*x`"
      ]
    },
    {
      "cell_type": "markdown",
      "metadata": {
        "id": "xlz4Kvu6U6nK"
      },
      "source": [
        "#Data Creation\n",
        "\n",
        "Equation : `y=10*x`\n",
        "\n",
        "Target -->\n",
        "```\n",
        "x = [0, 1, 2, 3, 4, 5....]\n",
        "\n",
        "y = [0, 10, 20, 30, 40, 50.....]\n",
        "```\n",
        "\n"
      ]
    },
    {
      "cell_type": "code",
      "metadata": {
        "colab": {
          "base_uri": "https://localhost:8080/"
        },
        "id": "f-99is6zXkLV",
        "outputId": "c6601ddf-c56a-4182-8936-f98ad1d7c10b"
      },
      "source": [
        "x = [i for i in range(21)]\n",
        "print(x)"
      ],
      "execution_count": 8,
      "outputs": [
        {
          "output_type": "stream",
          "text": [
            "[0, 1, 2, 3, 4, 5, 6, 7, 8, 9, 10, 11, 12, 13, 14, 15, 16, 17, 18, 19, 20]\n"
          ],
          "name": "stdout"
        }
      ]
    },
    {
      "cell_type": "code",
      "metadata": {
        "colab": {
          "base_uri": "https://localhost:8080/"
        },
        "id": "yi3FCyQmZXiG",
        "outputId": "782564dd-445c-4613-ecbb-8042b896b45c"
      },
      "source": [
        "y = [i for i in range(201) if i%10==0]\n",
        "print(y)"
      ],
      "execution_count": 9,
      "outputs": [
        {
          "output_type": "stream",
          "text": [
            "[0, 10, 20, 30, 40, 50, 60, 70, 80, 90, 100, 110, 120, 130, 140, 150, 160, 170, 180, 190, 200]\n"
          ],
          "name": "stdout"
        }
      ]
    },
    {
      "cell_type": "markdown",
      "metadata": {
        "id": "ETkDBssHaW6O"
      },
      "source": [
        "#Approach 1\n",
        "\n",
        "Defining a function which has equation y=`10x`"
      ]
    },
    {
      "cell_type": "code",
      "metadata": {
        "colab": {
          "base_uri": "https://localhost:8080/"
        },
        "id": "9I0wGYqyaksS",
        "outputId": "7f1191ef-8b32-4fca-d48a-d53204db1786"
      },
      "source": [
        "def tableoften(x):\n",
        "  y=10*x\n",
        "  return(y)\n",
        "\n",
        "for value in x:\n",
        "  print (tableoften(value))"
      ],
      "execution_count": 10,
      "outputs": [
        {
          "output_type": "stream",
          "text": [
            "0\n",
            "10\n",
            "20\n",
            "30\n",
            "40\n",
            "50\n",
            "60\n",
            "70\n",
            "80\n",
            "90\n",
            "100\n",
            "110\n",
            "120\n",
            "130\n",
            "140\n",
            "150\n",
            "160\n",
            "170\n",
            "180\n",
            "190\n",
            "200\n"
          ],
          "name": "stdout"
        }
      ]
    },
    {
      "cell_type": "markdown",
      "metadata": {
        "id": "AuiT9-pNbud5"
      },
      "source": [
        "#Approach 2\n",
        "\n",
        "I am super enthusiastic about ML so I am going to make a redundant model for the table of ten."
      ]
    },
    {
      "cell_type": "markdown",
      "metadata": {
        "id": "rSB0_QdTdCO3"
      },
      "source": [
        "We are going to need `xTrain`,`yTrain`,`xTest` and `yTest` from the `x` and `y` lists"
      ]
    },
    {
      "cell_type": "code",
      "metadata": {
        "colab": {
          "base_uri": "https://localhost:8080/"
        },
        "id": "--ueMkq-cCOJ",
        "outputId": "25689daa-ff20-4078-b9f3-9c98ce75fb36"
      },
      "source": [
        "print(f'{x}')\n",
        "print(f'{y}')"
      ],
      "execution_count": 12,
      "outputs": [
        {
          "output_type": "stream",
          "text": [
            "[0, 1, 2, 3, 4, 5, 6, 7, 8, 9, 10, 11, 12, 13, 14, 15, 16, 17, 18, 19, 20]\n",
            "[0, 10, 20, 30, 40, 50, 60, 70, 80, 90, 100, 110, 120, 130, 140, 150, 160, 170, 180, 190, 200]\n"
          ],
          "name": "stdout"
        }
      ]
    },
    {
      "cell_type": "code",
      "metadata": {
        "colab": {
          "base_uri": "https://localhost:8080/"
        },
        "id": "D9qBxtXwd3Mn",
        "outputId": "557ab728-0396-4018-a034-6612f63a2a13"
      },
      "source": [
        "xTrain = x[:-5] #TrainingData\n",
        "yTrain = y[:-5] #TrainingLabels\n",
        "\n",
        "xTest = x[-5:] #TestingData\n",
        "yTest =y[-5:] #TestingLabels\n",
        "\n",
        "print (f'''\n",
        "\n",
        "Training Data :\n",
        "\n",
        "xTrain : {xTrain}\n",
        "yTrain : {yTrain}\n",
        "\n",
        "Testing Data :\n",
        "\n",
        "xTest : {xTest}\n",
        "yTest : {yTest}\n",
        "\n",
        "''')"
      ],
      "execution_count": 17,
      "outputs": [
        {
          "output_type": "stream",
          "text": [
            "\n",
            "\n",
            "Training Data :\n",
            "\n",
            "xTrain : [0, 1, 2, 3, 4, 5, 6, 7, 8, 9, 10, 11, 12, 13, 14, 15]\n",
            "yTrain : [0, 10, 20, 30, 40, 50, 60, 70, 80, 90, 100, 110, 120, 130, 140, 150]\n",
            "\n",
            "Testing Data :\n",
            "\n",
            "xTest : [16, 17, 18, 19, 20]\n",
            "yTest : [160, 170, 180, 190, 200]\n",
            "\n",
            "\n"
          ],
          "name": "stdout"
        }
      ]
    },
    {
      "cell_type": "code",
      "metadata": {
        "id": "V7o3GNGZlWlb"
      },
      "source": [
        "import tensorflow as tf\n",
        "from tensorflow import keras"
      ],
      "execution_count": 18,
      "outputs": []
    },
    {
      "cell_type": "code",
      "metadata": {
        "id": "eEGX7aSllgBf"
      },
      "source": [
        "#perceptron model\n",
        "\n",
        "model = tf.keras.Sequential([\n",
        "                             tf.keras.layers.Dense(units=1, input_shape=[1]) #unit is the number of neurons and input_shape is the shape of the neuron\n",
        "])"
      ],
      "execution_count": 19,
      "outputs": []
    },
    {
      "cell_type": "markdown",
      "metadata": {
        "id": "nSQ6SkzBuOyT"
      },
      "source": [
        "h(xTrain) = [...]\n",
        "\n",
        "yTrain =[]\n",
        "\n",
        "length of yTrain :\n",
        "\n",
        "n=len(yTrain)\n",
        "\n",
        "MAE =((xTrain_i - h(xTrain_i)))/n"
      ]
    },
    {
      "cell_type": "code",
      "metadata": {
        "id": "LbOqf__pmbAY"
      },
      "source": [
        "model.compile(optimizer='adam', loss='mae')"
      ],
      "execution_count": 21,
      "outputs": []
    },
    {
      "cell_type": "markdown",
      "metadata": {
        "id": "JcHqqFNvtn9B"
      },
      "source": [
        "`val_loss` and `loss` can be analogous to `J(x)` or the cost function"
      ]
    },
    {
      "cell_type": "code",
      "metadata": {
        "colab": {
          "base_uri": "https://localhost:8080/"
        },
        "id": "dVltv2QtqHU6",
        "outputId": "234bc20d-ce83-472a-c038-837e2fe2604e"
      },
      "source": [
        "model.fit (x=xTrain , y=yTrain , validation_data=(xTest , yTest) , epochs=50)"
      ],
      "execution_count": 23,
      "outputs": [
        {
          "output_type": "stream",
          "text": [
            "Epoch 1/50\n",
            "1/1 [==============================] - 0s 119ms/step - loss: 68.0233 - val_loss: 163.2379\n",
            "Epoch 2/50\n",
            "1/1 [==============================] - 0s 24ms/step - loss: 68.0149 - val_loss: 163.2189\n",
            "Epoch 3/50\n",
            "1/1 [==============================] - 0s 24ms/step - loss: 68.0065 - val_loss: 163.1999\n",
            "Epoch 4/50\n",
            "1/1 [==============================] - 0s 24ms/step - loss: 67.9981 - val_loss: 163.1809\n",
            "Epoch 5/50\n",
            "1/1 [==============================] - 0s 24ms/step - loss: 67.9898 - val_loss: 163.1619\n",
            "Epoch 6/50\n",
            "1/1 [==============================] - 0s 24ms/step - loss: 67.9814 - val_loss: 163.1429\n",
            "Epoch 7/50\n",
            "1/1 [==============================] - 0s 25ms/step - loss: 67.9730 - val_loss: 163.1239\n",
            "Epoch 8/50\n",
            "1/1 [==============================] - 0s 24ms/step - loss: 67.9647 - val_loss: 163.1049\n",
            "Epoch 9/50\n",
            "1/1 [==============================] - 0s 28ms/step - loss: 67.9563 - val_loss: 163.0859\n",
            "Epoch 10/50\n",
            "1/1 [==============================] - 0s 24ms/step - loss: 67.9479 - val_loss: 163.0669\n",
            "Epoch 11/50\n",
            "1/1 [==============================] - 0s 24ms/step - loss: 67.9395 - val_loss: 163.0479\n",
            "Epoch 12/50\n",
            "1/1 [==============================] - 0s 25ms/step - loss: 67.9312 - val_loss: 163.0290\n",
            "Epoch 13/50\n",
            "1/1 [==============================] - 0s 25ms/step - loss: 67.9228 - val_loss: 163.0099\n",
            "Epoch 14/50\n",
            "1/1 [==============================] - 0s 29ms/step - loss: 67.9144 - val_loss: 162.9910\n",
            "Epoch 15/50\n",
            "1/1 [==============================] - 0s 27ms/step - loss: 67.9060 - val_loss: 162.9720\n",
            "Epoch 16/50\n",
            "1/1 [==============================] - 0s 28ms/step - loss: 67.8977 - val_loss: 162.9530\n",
            "Epoch 17/50\n",
            "1/1 [==============================] - 0s 44ms/step - loss: 67.8893 - val_loss: 162.9340\n",
            "Epoch 18/50\n",
            "1/1 [==============================] - 0s 31ms/step - loss: 67.8809 - val_loss: 162.9150\n",
            "Epoch 19/50\n",
            "1/1 [==============================] - 0s 28ms/step - loss: 67.8726 - val_loss: 162.8960\n",
            "Epoch 20/50\n",
            "1/1 [==============================] - 0s 27ms/step - loss: 67.8642 - val_loss: 162.8770\n",
            "Epoch 21/50\n",
            "1/1 [==============================] - 0s 24ms/step - loss: 67.8558 - val_loss: 162.8580\n",
            "Epoch 22/50\n",
            "1/1 [==============================] - 0s 26ms/step - loss: 67.8474 - val_loss: 162.8390\n",
            "Epoch 23/50\n",
            "1/1 [==============================] - 0s 25ms/step - loss: 67.8391 - val_loss: 162.8200\n",
            "Epoch 24/50\n",
            "1/1 [==============================] - 0s 25ms/step - loss: 67.8307 - val_loss: 162.8010\n",
            "Epoch 25/50\n",
            "1/1 [==============================] - 0s 25ms/step - loss: 67.8223 - val_loss: 162.7820\n",
            "Epoch 26/50\n",
            "1/1 [==============================] - 0s 28ms/step - loss: 67.8139 - val_loss: 162.7630\n",
            "Epoch 27/50\n",
            "1/1 [==============================] - 0s 26ms/step - loss: 67.8056 - val_loss: 162.7440\n",
            "Epoch 28/50\n",
            "1/1 [==============================] - 0s 26ms/step - loss: 67.7972 - val_loss: 162.7250\n",
            "Epoch 29/50\n",
            "1/1 [==============================] - 0s 27ms/step - loss: 67.7888 - val_loss: 162.7060\n",
            "Epoch 30/50\n",
            "1/1 [==============================] - 0s 24ms/step - loss: 67.7804 - val_loss: 162.6870\n",
            "Epoch 31/50\n",
            "1/1 [==============================] - 0s 30ms/step - loss: 67.7721 - val_loss: 162.6680\n",
            "Epoch 32/50\n",
            "1/1 [==============================] - 0s 26ms/step - loss: 67.7637 - val_loss: 162.6490\n",
            "Epoch 33/50\n",
            "1/1 [==============================] - 0s 25ms/step - loss: 67.7553 - val_loss: 162.6300\n",
            "Epoch 34/50\n",
            "1/1 [==============================] - 0s 45ms/step - loss: 67.7470 - val_loss: 162.6110\n",
            "Epoch 35/50\n",
            "1/1 [==============================] - 0s 24ms/step - loss: 67.7386 - val_loss: 162.5920\n",
            "Epoch 36/50\n",
            "1/1 [==============================] - 0s 32ms/step - loss: 67.7302 - val_loss: 162.5730\n",
            "Epoch 37/50\n",
            "1/1 [==============================] - 0s 25ms/step - loss: 67.7218 - val_loss: 162.5540\n",
            "Epoch 38/50\n",
            "1/1 [==============================] - 0s 24ms/step - loss: 67.7135 - val_loss: 162.5350\n",
            "Epoch 39/50\n",
            "1/1 [==============================] - 0s 23ms/step - loss: 67.7051 - val_loss: 162.5160\n",
            "Epoch 40/50\n",
            "1/1 [==============================] - 0s 46ms/step - loss: 67.6967 - val_loss: 162.4970\n",
            "Epoch 41/50\n",
            "1/1 [==============================] - 0s 28ms/step - loss: 67.6883 - val_loss: 162.4780\n",
            "Epoch 42/50\n",
            "1/1 [==============================] - 0s 25ms/step - loss: 67.6800 - val_loss: 162.4590\n",
            "Epoch 43/50\n",
            "1/1 [==============================] - 0s 23ms/step - loss: 67.6716 - val_loss: 162.4400\n",
            "Epoch 44/50\n",
            "1/1 [==============================] - 0s 24ms/step - loss: 67.6632 - val_loss: 162.4210\n",
            "Epoch 45/50\n",
            "1/1 [==============================] - 0s 25ms/step - loss: 67.6549 - val_loss: 162.4020\n",
            "Epoch 46/50\n",
            "1/1 [==============================] - 0s 26ms/step - loss: 67.6465 - val_loss: 162.3830\n",
            "Epoch 47/50\n",
            "1/1 [==============================] - 0s 25ms/step - loss: 67.6381 - val_loss: 162.3640\n",
            "Epoch 48/50\n",
            "1/1 [==============================] - 0s 25ms/step - loss: 67.6297 - val_loss: 162.3450\n",
            "Epoch 49/50\n",
            "1/1 [==============================] - 0s 26ms/step - loss: 67.6214 - val_loss: 162.3260\n",
            "Epoch 50/50\n",
            "1/1 [==============================] - 0s 28ms/step - loss: 67.6130 - val_loss: 162.3070\n"
          ],
          "name": "stdout"
        },
        {
          "output_type": "execute_result",
          "data": {
            "text/plain": [
              "<tensorflow.python.keras.callbacks.History at 0x7f9dcaa1a7d0>"
            ]
          },
          "metadata": {
            "tags": []
          },
          "execution_count": 23
        }
      ]
    }
  ]
}