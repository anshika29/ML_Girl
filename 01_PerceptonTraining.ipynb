{
  "nbformat": 4,
  "nbformat_minor": 0,
  "metadata": {
    "colab": {
      "name": "01_PerceptonTraining.ipynb",
      "provenance": [],
      "authorship_tag": "ABX9TyNGeUlyakxQh37o94yvHguB",
      "include_colab_link": true
    },
    "kernelspec": {
      "name": "python3",
      "display_name": "Python 3"
    },
    "language_info": {
      "name": "python"
    }
  },
  "cells": [
    {
      "cell_type": "markdown",
      "metadata": {
        "id": "view-in-github",
        "colab_type": "text"
      },
      "source": [
        "<a href=\"https://colab.research.google.com/github/anshika29/ML_Girl/blob/main/01_PerceptonTraining.ipynb\" target=\"_parent\"><img src=\"https://colab.research.google.com/assets/colab-badge.svg\" alt=\"Open In Colab\"/></a>"
      ]
    },
    {
      "cell_type": "markdown",
      "metadata": {
        "id": "R8xpGhXYE1lQ"
      },
      "source": [
        "**Date Created**: May 29,2021\n",
        "\n",
        "Author: [Anshika Jain](https:://github.com/anshika29)\n"
      ]
    },
    {
      "cell_type": "markdown",
      "metadata": {
        "id": "_2F9WGLuUjVb"
      },
      "source": [
        "#Problem Statement\n",
        "\n",
        "Train the model to learn the table of 10\n",
        "\n",
        "Equation : `y=10*x`"
      ]
    },
    {
      "cell_type": "markdown",
      "metadata": {
        "id": "xlz4Kvu6U6nK"
      },
      "source": [
        "#Data Creation\n",
        "\n",
        "Equation : `y=10*x`\n",
        "\n",
        "Target -->\n",
        "```\n",
        "x = [0, 1, 2, 3, 4, 5....]\n",
        "\n",
        "y = [0, 10, 20, 30, 40, 50.....]\n",
        "```\n",
        "\n"
      ]
    },
    {
      "cell_type": "code",
      "metadata": {
        "colab": {
          "base_uri": "https://localhost:8080/"
        },
        "id": "f-99is6zXkLV",
        "outputId": "c6601ddf-c56a-4182-8936-f98ad1d7c10b"
      },
      "source": [
        "x = [i for i in range(21)]\n",
        "print(x)"
      ],
      "execution_count": 8,
      "outputs": [
        {
          "output_type": "stream",
          "text": [
            "[0, 1, 2, 3, 4, 5, 6, 7, 8, 9, 10, 11, 12, 13, 14, 15, 16, 17, 18, 19, 20]\n"
          ],
          "name": "stdout"
        }
      ]
    },
    {
      "cell_type": "code",
      "metadata": {
        "colab": {
          "base_uri": "https://localhost:8080/"
        },
        "id": "yi3FCyQmZXiG",
        "outputId": "782564dd-445c-4613-ecbb-8042b896b45c"
      },
      "source": [
        "y = [i for i in range(201) if i%10==0]\n",
        "print(y)"
      ],
      "execution_count": 9,
      "outputs": [
        {
          "output_type": "stream",
          "text": [
            "[0, 10, 20, 30, 40, 50, 60, 70, 80, 90, 100, 110, 120, 130, 140, 150, 160, 170, 180, 190, 200]\n"
          ],
          "name": "stdout"
        }
      ]
    },
    {
      "cell_type": "markdown",
      "metadata": {
        "id": "ETkDBssHaW6O"
      },
      "source": [
        "#Approach 1\n",
        "\n",
        "Defining a function which has equation y=`10x`"
      ]
    },
    {
      "cell_type": "code",
      "metadata": {
        "colab": {
          "base_uri": "https://localhost:8080/"
        },
        "id": "9I0wGYqyaksS",
        "outputId": "7f1191ef-8b32-4fca-d48a-d53204db1786"
      },
      "source": [
        "def tableoften(x):\n",
        "  y=10*x\n",
        "  return(y)\n",
        "\n",
        "for value in x:\n",
        "  print (tableoften(value))"
      ],
      "execution_count": 10,
      "outputs": [
        {
          "output_type": "stream",
          "text": [
            "0\n",
            "10\n",
            "20\n",
            "30\n",
            "40\n",
            "50\n",
            "60\n",
            "70\n",
            "80\n",
            "90\n",
            "100\n",
            "110\n",
            "120\n",
            "130\n",
            "140\n",
            "150\n",
            "160\n",
            "170\n",
            "180\n",
            "190\n",
            "200\n"
          ],
          "name": "stdout"
        }
      ]
    },
    {
      "cell_type": "markdown",
      "metadata": {
        "id": "AuiT9-pNbud5"
      },
      "source": [
        "#Approach 2\n",
        "\n",
        "I am super enthusiastic about ML so I am going to make a redundant model for the table of ten."
      ]
    },
    {
      "cell_type": "markdown",
      "metadata": {
        "id": "rSB0_QdTdCO3"
      },
      "source": [
        "We are going to need `xTrain`,`yTrain`,`xTest` and `yTest` from the `x` and `y` lists"
      ]
    },
    {
      "cell_type": "code",
      "metadata": {
        "colab": {
          "base_uri": "https://localhost:8080/"
        },
        "id": "--ueMkq-cCOJ",
        "outputId": "25689daa-ff20-4078-b9f3-9c98ce75fb36"
      },
      "source": [
        "print(f'{x}')\n",
        "print(f'{y}')"
      ],
      "execution_count": 12,
      "outputs": [
        {
          "output_type": "stream",
          "text": [
            "[0, 1, 2, 3, 4, 5, 6, 7, 8, 9, 10, 11, 12, 13, 14, 15, 16, 17, 18, 19, 20]\n",
            "[0, 10, 20, 30, 40, 50, 60, 70, 80, 90, 100, 110, 120, 130, 140, 150, 160, 170, 180, 190, 200]\n"
          ],
          "name": "stdout"
        }
      ]
    },
    {
      "cell_type": "code",
      "metadata": {
        "colab": {
          "base_uri": "https://localhost:8080/"
        },
        "id": "D9qBxtXwd3Mn",
        "outputId": "557ab728-0396-4018-a034-6612f63a2a13"
      },
      "source": [
        "xTrain = x[:-5] #TrainingData\n",
        "yTrain = y[:-5] #TrainingLabels\n",
        "\n",
        "xTest = x[-5:] #TestingData\n",
        "yTest =y[-5:] #TestingLabels\n",
        "\n",
        "print (f'''\n",
        "\n",
        "Training Data :\n",
        "\n",
        "xTrain : {xTrain}\n",
        "yTrain : {yTrain}\n",
        "\n",
        "Testing Data :\n",
        "\n",
        "xTest : {xTest}\n",
        "yTest : {yTest}\n",
        "\n",
        "''')"
      ],
      "execution_count": 17,
      "outputs": [
        {
          "output_type": "stream",
          "text": [
            "\n",
            "\n",
            "Training Data :\n",
            "\n",
            "xTrain : [0, 1, 2, 3, 4, 5, 6, 7, 8, 9, 10, 11, 12, 13, 14, 15]\n",
            "yTrain : [0, 10, 20, 30, 40, 50, 60, 70, 80, 90, 100, 110, 120, 130, 140, 150]\n",
            "\n",
            "Testing Data :\n",
            "\n",
            "xTest : [16, 17, 18, 19, 20]\n",
            "yTest : [160, 170, 180, 190, 200]\n",
            "\n",
            "\n"
          ],
          "name": "stdout"
        }
      ]
    }
  ]
}